{
 "cells": [
  {
   "cell_type": "code",
   "execution_count": 2,
   "metadata": {},
   "outputs": [
    {
     "name": "stderr",
     "output_type": "stream",
     "text": [
      "2025-03-24 19:55:08.956726: I tensorflow/core/platform/cpu_feature_guard.cc:210] This TensorFlow binary is optimized to use available CPU instructions in performance-critical operations.\n",
      "To enable the following instructions: AVX2 FMA, in other operations, rebuild TensorFlow with the appropriate compiler flags.\n"
     ]
    }
   ],
   "source": [
    "import tensorflow as tf\n",
    "import numpy as np\n",
    "import matplotlib.pyplot as plt\n",
    "from tensorflow.keras.layers import Dense, Input\n",
    "from tensorflow.keras.models import Model\n",
    "from tensorflow.keras.optimizers import Adam\n",
    "import pandas as pd\n",
    "import time\n",
    "from numba import jit, prange\n",
    "import os\n",
    "import warnings"
   ]
  },
  {
   "cell_type": "code",
   "execution_count": 3,
   "metadata": {},
   "outputs": [],
   "source": [
    "tf.random.set_seed(1234)\n",
    "np.random.seed(1234)"
   ]
  },
  {
   "cell_type": "code",
   "execution_count": 4,
   "metadata": {},
   "outputs": [
    {
     "name": "stdout",
     "output_type": "stream",
     "text": [
      "TensorFlow version: 2.16.2\n"
     ]
    }
   ],
   "source": [
    "print(\"TensorFlow version:\", tf.__version__)"
   ]
  },
  {
   "cell_type": "code",
   "execution_count": 5,
   "metadata": {},
   "outputs": [],
   "source": [
    "# Use Numba to accelerate data preprocessing\n",
    "@jit(nopython=True, parallel=True)\n",
    "def normalize_data(data, min_val, max_val):\n",
    "    \"\"\"Normalize data in parallel using Numba.\"\"\"\n",
    "    return (data - min_val) / (max_val - min_val)\n",
    "\n",
    "@jit(nopython=True)\n",
    "def create_collocation_points(n_points, min_val=0.0, max_val=1.0):\n",
    "    \"\"\"Generate collocation points efficiently.\"\"\"\n",
    "    return np.random.uniform(min_val, max_val, (n_points, 1))"
   ]
  },
  {
   "cell_type": "code",
   "execution_count": 6,
   "metadata": {},
   "outputs": [
    {
     "name": "stdout",
     "output_type": "stream",
     "text": [
      "Data loaded successfully\n"
     ]
    }
   ],
   "source": [
    "bobcat_df = pd.read_csv('cleaned_bobcat_data.csv')\n",
    "rabbit_df = pd.read_csv('cleaned_rabbit_data.csv')\n",
    "print(\"Data loaded successfully\")"
   ]
  },
  {
   "cell_type": "code",
   "execution_count": 7,
   "metadata": {},
   "outputs": [],
   "source": [
    "# Extract time points and population data\n",
    "t_data = np.array(bobcat_df.index)\n",
    "x_data = np.array(bobcat_df[' Bobcats'])  # Bobcat population\n",
    "y_data = np.array(rabbit_df[' Rabbits'])  # Rabbit population"
   ]
  },
  {
   "cell_type": "code",
   "execution_count": 8,
   "metadata": {},
   "outputs": [],
   "source": [
    "# Normalize data\n",
    "t_min, t_max = t_data.min(), t_data.max()\n",
    "x_min, x_max = np.nanmin(x_data), np.nanmax(x_data)\n",
    "y_min, y_max = np.nanmin(y_data), np.nanmax(y_data)"
   ]
  },
  {
   "cell_type": "code",
   "execution_count": 9,
   "metadata": {},
   "outputs": [
    {
     "name": "stderr",
     "output_type": "stream",
     "text": [
      "OMP: Info #276: omp_set_nested routine deprecated, please use omp_set_max_active_levels instead.\n"
     ]
    }
   ],
   "source": [
    "# Use Numba to speed up normalization\n",
    "t_data_norm = normalize_data(t_data, t_min, t_max)\n",
    "x_data_norm = np.array([(x - x_min) / (x_max - x_min) if not np.isnan(x) else np.nan for x in x_data])\n",
    "y_data_norm = normalize_data(y_data, y_min, y_max)"
   ]
  },
  {
   "cell_type": "code",
   "execution_count": 10,
   "metadata": {},
   "outputs": [
    {
     "name": "stdout",
     "output_type": "stream",
     "text": [
      "Observed data points: 91\n"
     ]
    }
   ],
   "source": [
    "# Prepare observed data, handling NaNs\n",
    "observed_data = []\n",
    "for i in range(len(t_data)):\n",
    "    if not (np.isnan(x_data_norm[i]) or np.isnan(y_data_norm[i])):\n",
    "        observed_data.append([t_data_norm[i], x_data_norm[i], y_data_norm[i]])\n",
    "\n",
    "observed_data = np.array(observed_data)\n",
    "print(f\"Observed data points: {len(observed_data)}\")"
   ]
  },
  {
   "cell_type": "code",
   "execution_count": 11,
   "metadata": {},
   "outputs": [
    {
     "data": {
      "image/png": "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